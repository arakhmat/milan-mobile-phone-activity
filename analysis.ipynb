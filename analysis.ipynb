{
 "cells": [
  {
   "cell_type": "code",
   "execution_count": null,
   "metadata": {},
   "outputs": [],
   "source": [
    "# Install packages not available in conda\n",
    "import sys\n",
    "!{sys.executable} -m pip install pycountry"
   ]
  },
  {
   "cell_type": "code",
   "execution_count": null,
   "metadata": {},
   "outputs": [],
   "source": [
    "import random\n",
    "import numpy as np\n",
    "import pandas as pd\n",
    "import load_utils"
   ]
  },
  {
   "cell_type": "code",
   "execution_count": null,
   "metadata": {},
   "outputs": [],
   "source": [
    "random.seed(1234)\n",
    "np.random.seed(1234)"
   ]
  },
  {
   "cell_type": "markdown",
   "metadata": {},
   "source": [
    "# LOADING DATA"
   ]
  },
  {
   "cell_type": "code",
   "execution_count": null,
   "metadata": {},
   "outputs": [],
   "source": [
    "# Load geojsons of Milan, Italy and the world\n",
    "geojsons = load_utils.load_geojsons() "
   ]
  },
  {
   "cell_type": "code",
   "execution_count": null,
   "metadata": {},
   "outputs": [],
   "source": [
    "# Use the first day only because otherwise it might not fit in the memory\n",
    "start_date = '2013-11-01'\n",
    "n_days     = 1"
   ]
  },
  {
   "cell_type": "code",
   "execution_count": null,
   "metadata": {},
   "outputs": [],
   "source": [
    "# Load the data from the .csv files\n",
    "provinces_df, countries_df = load_utils.load_provinces_and_countries(start_date, n_days)"
   ]
  },
  {
   "cell_type": "code",
   "execution_count": null,
   "metadata": {},
   "outputs": [],
   "source": [
    "# Create a mapping from the country code to the conutry name\n",
    "import pycountry\n",
    "from phonenumbers import COUNTRY_CODE_TO_REGION_CODE\n",
    "\n",
    "def create_code_to_country(countries_df):\n",
    "    code_to_country = {}\n",
    "    country_codes = set(countries_df['countrycode'])\n",
    "    for country_code in country_codes:\n",
    "        \n",
    "        if country_code == 0:\n",
    "            code_to_country[country_code] = 'Domestic'\n",
    "        else:\n",
    "            try:\n",
    "                region_codes = COUNTRY_CODE_TO_REGION_CODE[country_code]\n",
    "                for region_code in region_codes:\n",
    "                    country_name = pycountry.countries.get(alpha_2=region_code).name\n",
    "                    if country_code not in code_to_country:\n",
    "                        code_to_country[country_code]  = [country_name]\n",
    "                    else:\n",
    "                        code_to_country[country_code] += [country_name]\n",
    "            except KeyError:\n",
    "                pass\n",
    "    return code_to_country\n",
    "\n",
    "code_to_country = create_code_to_country(countries_df)"
   ]
  },
  {
   "cell_type": "code",
   "execution_count": null,
   "metadata": {},
   "outputs": [],
   "source": [
    "provinces = sorted(list(set(provinces_df['provinceName'])))\n",
    "\n",
    "countries = []\n",
    "for value in code_to_country.values():\n",
    "    for country in value:\n",
    "        countries.append(country) \n",
    "countries = sorted(countries)"
   ]
  },
  {
   "cell_type": "code",
   "execution_count": null,
   "metadata": {},
   "outputs": [],
   "source": [
    "province_columns = list(provinces_df.columns[2:])\n",
    "country_columns  = list(countries_df.columns[2:])"
   ]
  },
  {
   "cell_type": "code",
   "execution_count": null,
   "metadata": {},
   "outputs": [],
   "source": [
    "def create_columns_names(provinces_df, countries_df,\n",
    "                         provinces, countries):\n",
    "    \n",
    "    \n",
    "    def create_column_names(columns, regions):\n",
    "        column_names = []\n",
    "        for column in columns:\n",
    "            for region in regions:\n",
    "                column_names.append('{}_{}'.format(column, region))\n",
    "        return column_names\n",
    "           \n",
    "    column_names  = create_column_names(provinces_df.columns[2:], provinces)\n",
    "    column_names += create_column_names(countries_df.columns[2:], countries)\n",
    "    return column_names\n",
    "\n",
    "column_names = create_columns_names(provinces_df, countries_df, provinces, countries)\n",
    "        "
   ]
  },
  {
   "cell_type": "code",
   "execution_count": null,
   "metadata": {},
   "outputs": [],
   "source": [
    "n_cells     = 10000\n",
    "n_hours     = 24 * n_days"
   ]
  },
  {
   "cell_type": "code",
   "execution_count": null,
   "metadata": {},
   "outputs": [],
   "source": [
    "time_indices = pd.concat([pd.DataFrame(np.repeat(provinces_df.index.drop_duplicates().values, n_cells), columns=['datetime'])]).reset_index(drop=True)\n",
    "cell_indices = pd.concat([pd.DataFrame(np.arange(n_cells), columns=['CellID'])] * n_hours).reset_index(drop=True)\n",
    "df_index     = pd.MultiIndex.from_tuples(list(zip(list(time_indices['datetime']), list(cell_indices['CellID']))), names=['datetime', 'CellID'])"
   ]
  },
  {
   "cell_type": "code",
   "execution_count": null,
   "metadata": {},
   "outputs": [],
   "source": [
    "# Keep it as an array for now in order to populate it faster\n",
    "df = np.zeros((n_hours*n_cells, len(column_names)))\n",
    "row_indices_map    = {key: value for value, key in enumerate(df_index.values)}\n",
    "column_indices_map = {key: value for value, key in enumerate(column_names)}"
   ]
  },
  {
   "cell_type": "code",
   "execution_count": null,
   "metadata": {},
   "outputs": [],
   "source": [
    "import progressbar\n",
    "def populate_df(df, row_indices_map, column_indices_map,\n",
    "                regions_df, code_to_country=None):\n",
    "    \n",
    "    if 'provinceName' in regions_df:\n",
    "        source = 'provinces_df'\n",
    "    else:\n",
    "        source = 'countries_df'\n",
    "    \n",
    "    print('Populating with data from \"{}\"'.format(source))\n",
    "    sys.stdout.flush()\n",
    "    \n",
    "    bar = progressbar.ProgressBar(max_value=len(regions_df))\n",
    "    column_names = regions_df.columns[2:]\n",
    "    \n",
    "    for i, row in enumerate(regions_df.to_records()):\n",
    "        try:\n",
    "            row = list(row)\n",
    "            time_index, cell_index, region = row[:3]\n",
    "            if 'countrycode' in regions_df:\n",
    "                regions = code_to_country[region]\n",
    "            else:\n",
    "                regions = [region]\n",
    "            values = row[3:]\n",
    "            \n",
    "            for column_name, value in zip(column_names, values):\n",
    "                for region in regions:\n",
    "                    df_column_name = '{}_{}'.format(column_name, region)\n",
    "                    row_index    = row_indices_map[(time_index, cell_index)]\n",
    "                    column_index = column_indices_map[df_column_name]\n",
    "                    df[row_index, column_index] = value\n",
    "                \n",
    "        except KeyError as e:\n",
    "            pass\n",
    "        bar.update(i)"
   ]
  },
  {
   "cell_type": "markdown",
   "metadata": {},
   "source": [
    "### <span style=\"color:red;\">Cell below takes more than 2 minutes to run!</span>"
   ]
  },
  {
   "cell_type": "code",
   "execution_count": null,
   "metadata": {},
   "outputs": [],
   "source": [
    "populate_df(df, row_indices_map, column_indices_map, provinces_df)\n",
    "populate_df(df, row_indices_map, column_indices_map, countries_df, code_to_country)"
   ]
  },
  {
   "cell_type": "code",
   "execution_count": null,
   "metadata": {},
   "outputs": [],
   "source": [
    "# Convert to DataFrame\n",
    "df = pd.DataFrame(df, columns=column_names, index=df_index)"
   ]
  },
  {
   "cell_type": "markdown",
   "metadata": {},
   "source": [
    "# VISUALIZING DATA"
   ]
  },
  {
   "cell_type": "code",
   "execution_count": null,
   "metadata": {},
   "outputs": [],
   "source": [
    "# Specify GMAPS_API_KEY to render cell usage in Milan over the map of the city\n",
    "# In case it's left blank, the cell usage in Milan will still be rendered\n",
    "GMAPS_API_KEY = ''"
   ]
  },
  {
   "cell_type": "code",
   "execution_count": null,
   "metadata": {},
   "outputs": [],
   "source": [
    "from bokeh.io import show, output_notebook\n",
    "from bokeh.layouts import column, row\n",
    "from bokeh.plotting import figure\n",
    "from bokeh.palettes import Inferno256 as palette\n",
    "from bokeh.models import (\n",
    "    GMapPlot,\n",
    "    GMapOptions,\n",
    "    Patches,\n",
    "    Range1d,\n",
    "    HoverTool,\n",
    "    ColumnDataSource,\n",
    "    LinearColorMapper as mapper\n",
    ")"
   ]
  },
  {
   "cell_type": "code",
   "execution_count": null,
   "metadata": {},
   "outputs": [],
   "source": [
    "color_mapper = mapper(palette=palette, low=0, high=255)\n",
    "TOOLS = \"pan,wheel_zoom,reset,hover,save\""
   ]
  },
  {
   "cell_type": "code",
   "execution_count": null,
   "metadata": {},
   "outputs": [],
   "source": [
    "def grid_plot(source, title, color_mapper, tools):\n",
    "    p = figure(\n",
    "       title=title, tools=tools,\n",
    "       x_axis_location=None, y_axis_location=None\n",
    "    )\n",
    "    p.grid.grid_line_color = None\n",
    "\n",
    "    p.patches('lon', 'lat', source=source,\n",
    "             fill_color={'field': 'cell_activity', 'transform': color_mapper},\n",
    "             fill_alpha=0.5, line_color=None, line_width=1)\n",
    "\n",
    "    hover = p.select_one(HoverTool)\n",
    "    hover.point_policy = \"follow_mouse\"\n",
    "    hover.tooltips = [\n",
    "       (\"Name\", \"@names\"),\n",
    "       (\"Cellular Activity)\", \"@cell_activity\"),\n",
    "       (\"(Lat, Lon)\", \"(@center_lat, @center_lon)\"),\n",
    "    ]\n",
    "    \n",
    "    return p\n",
    "\n",
    "def gmap_plot(source, title, color_mapper, center_coors, api_key):\n",
    "    map_options = GMapOptions(lat=center_coors['lat'], lng=center_coors['lon'], \n",
    "                              map_type=\"hybrid\", zoom=11, scale_control=True)\n",
    "    p = GMapPlot(x_range=Range1d(), y_range=Range1d(), map_options=map_options, plot_height=350, plot_width=350)\n",
    "    p.grid.grid_line_color = None\n",
    "    p.title.text = title\n",
    "    p.api_key = api_key\n",
    "\n",
    "    patches = Patches(xs='lon', ys='lat',\n",
    "                 fill_color={'field': 'cell_activity', 'transform': color_mapper},\n",
    "                 fill_alpha=0.5, line_color=None, line_width=1)\n",
    "    p.add_glyph(source, patches)\n",
    "    \n",
    "    return p"
   ]
  },
  {
   "cell_type": "code",
   "execution_count": null,
   "metadata": {},
   "outputs": [],
   "source": [
    "def plot_milan(df, geojsons, color_mapper, periods=1, gmap=True):\n",
    "    output_notebook()\n",
    "\n",
    "    lon = [[coors[0] for coors in cell[\"geometry\"][\"coordinates\"][0]] for cell in geojsons['grid']['features']]\n",
    "    lat = [[coors[1] for coors in cell[\"geometry\"][\"coordinates\"][0]] for cell in geojsons['grid']['features']]\n",
    "    names = [cell[\"id\"] for cell in geojsons['grid']['features']]\n",
    "\n",
    "    date_range = pd.date_range(df.index[0][0], periods=periods, freq='1H')\n",
    "\n",
    "    plot_data = {}\n",
    "    for i, date in enumerate(date_range):\n",
    "\n",
    "        hour_df = df.loc[pd.IndexSlice[str(date)]]\n",
    "\n",
    "        traffic_per_cell = hour_df.sum(axis=1)\n",
    "        traffic_per_cell = np.log(traffic_per_cell) # Smooth the data\n",
    "        plot_data[date] = traffic_per_cell\n",
    "\n",
    "    maximum = np.array(list(plot_data.values())).max()\n",
    "\n",
    "    plots = []\n",
    "    bar = progressbar.ProgressBar(max_value=len(plot_data))\n",
    "    for i, (date, traffic_per_cell) in enumerate(plot_data.items()):\n",
    "\n",
    "        cell_activity = traffic_per_cell.copy()\n",
    "        cell_activity /= maximum\n",
    "        cell_activity *= 255\n",
    "        cell_activity = cell_activity.replace([np.inf, -np.inf], np.nan).fillna(0)\n",
    "        cell_activity = cell_activity.astype(int)\n",
    "\n",
    "        source = ColumnDataSource(data=dict(\n",
    "            lon=lon,\n",
    "            lat=lat,\n",
    "            names=names,\n",
    "            cell_activity=cell_activity,\n",
    "            center_lon=[np.mean(x) for x in lon],\n",
    "            center_lat=[np.mean(x) for x in lat],\n",
    "        ))\n",
    "        \n",
    "        title = 'Cellular Activity in the City of Milan on {} at {}'.format(\n",
    "                    date.strftime('%Y-%m-%d'), date.strftime('%H-%M-%S'))\n",
    "        \n",
    "        if gmap and GMAPS_API_KEY == '':\n",
    "            gmap = False\n",
    "\n",
    "        if not gmap:\n",
    "            p = grid_plot(source, title, color_mapper, TOOLS)\n",
    "        else:\n",
    "                \n",
    "            center_coors = {\n",
    "                'lat': np.asarray(lat).mean(),\n",
    "                'lon': np.asarray(lon).mean()}\n",
    "            p = gmap_plot(source, title, color_mapper, center_coors, GMAPS_API_KEY)\n",
    "\n",
    "        plots.append(p)\n",
    "        bar.update(i)\n",
    "        \n",
    "    return plots"
   ]
  },
  {
   "cell_type": "markdown",
   "metadata": {},
   "source": [
    "### <span style=\"color:red;\">Cell below takes around a minute to load!</span>"
   ]
  },
  {
   "cell_type": "code",
   "execution_count": null,
   "metadata": {
    "scrolled": false
   },
   "outputs": [],
   "source": [
    "plots = plot_milan(df, geojsons, color_mapper, n_hours)\n",
    "\n",
    "rows = []\n",
    "for i in range(12):\n",
    "    rows.append(row(*plots[i*2:(i+1)*2]))\n",
    "show(column(*rows))"
   ]
  },
  {
   "cell_type": "markdown",
   "metadata": {},
   "source": [
    "<span style=\"color:blue;\">As can be seen from the images above, cellular activity follows a trend: it peaks during the day and slows down during the night.</span>"
   ]
  },
  {
   "cell_type": "code",
   "execution_count": null,
   "metadata": {},
   "outputs": [],
   "source": [
    "# Fix the provinces whose names are not matching between DataFrame and geojson\n",
    "replacement_dict = {\n",
    "    'MASSA CARRARA': 'MASSA-CARRARA'\n",
    "}\n",
    "\n",
    "for province in geojsons['provinces']['features']:\n",
    "    province_name = province['properties']['PROVINCIA'].upper()\n",
    "    if province_name in replacement_dict:\n",
    "        province['properties']['PROVINCIA'] = replacement_dict[province_name]"
   ]
  },
  {
   "cell_type": "code",
   "execution_count": null,
   "metadata": {},
   "outputs": [],
   "source": [
    "# Change the pallete\n",
    "from bokeh.palettes import Viridis256 as palette\n",
    "color_mapper = mapper(palette=palette, low=0, high=255)"
   ]
  },
  {
   "cell_type": "code",
   "execution_count": null,
   "metadata": {},
   "outputs": [],
   "source": [
    "def plot_italy(df, geojsons, color_mapper):\n",
    "    output_notebook()\n",
    "\n",
    "    lon = [[coors[0] for coors in province[\"geometry\"][\"coordinates\"][0][0]] for province in geojsons['provinces']['features']]\n",
    "    lat = [[coors[1] for coors in province[\"geometry\"][\"coordinates\"][0][0]] for province in  geojsons['provinces']['features']]\n",
    "    names = [province[\"properties\"][\"PROVINCIA\"].upper() for province in geojsons['provinces']['features']]\n",
    "    cell_activity = [df[df.filter(like=province).columns].sum().sum() for province in names]\n",
    "    \n",
    "    cell_activity = np.log(cell_activity) # Smoothen\n",
    "    cell_activity /= np.asarray(cell_activity).max() # Normalize\n",
    "    cell_activity *= 255 # Scale to pallete\n",
    "    \n",
    "    source = ColumnDataSource(data=dict(\n",
    "       lon=lon,\n",
    "       lat=lat,\n",
    "       names=names,\n",
    "       cell_activity=cell_activity,\n",
    "       center_lon=[np.mean(x) for x in lon],\n",
    "       center_lat=[np.mean(x) for x in lat],\n",
    "    ))\n",
    "\n",
    "    p = figure(\n",
    "       title=\"Italian Provinces by Amount of Cellular Activity with Milan\", tools=TOOLS,\n",
    "       x_axis_location=None, y_axis_location=None\n",
    "    )\n",
    "    p.grid.grid_line_color = None\n",
    "\n",
    "    p.patches('lon', 'lat', source=source,\n",
    "             fill_color={'field': 'cell_activity', 'transform': color_mapper},\n",
    "             fill_alpha=0.7, line_color=\"white\", line_width=0.5)\n",
    "\n",
    "    hover = p.select_one(HoverTool)\n",
    "    hover.point_policy = \"follow_mouse\"\n",
    "    hover.tooltips = [\n",
    "       (\"Name\", \"@names\"),\n",
    "       (\"Cellular Activity)\", \"@cell_activity\"),\n",
    "       (\"(Lat, Lon)\", \"(@center_lat, @center_lon)\"),\n",
    "    ]\n",
    "    return p"
   ]
  },
  {
   "cell_type": "markdown",
   "metadata": {},
   "source": [
    "### <span style=\"color:red;\">Cell below takes around a minute to load!</span>"
   ]
  },
  {
   "cell_type": "code",
   "execution_count": null,
   "metadata": {},
   "outputs": [],
   "source": [
    "p_italy = plot_italy(df, geojsons, color_mapper)\n",
    "show(p_italy)"
   ]
  },
  {
   "cell_type": "code",
   "execution_count": null,
   "metadata": {},
   "outputs": [],
   "source": [
    "def plot_world(df, geojsons, color_mapper):\n",
    "    output_notebook()\n",
    "    \n",
    "    lon = []\n",
    "    lat = []\n",
    "    names = []\n",
    "    cell_activity = []\n",
    "    \n",
    "    for country in geojsons['countries']['features']:  \n",
    "        if country[\"id\"] == '-99': # Northern Cyprus\n",
    "            country[\"id\"] = \"CYP\"\n",
    "        elif country[\"id\"] == 'CS-KM': # Kosovo\n",
    "            country[\"id\"] = \"SRB\"\n",
    "        name = pycountry.countries.get(alpha_3=country[\"id\"]).name\n",
    "\n",
    "        geometry = country[\"geometry\"]\n",
    "        if geometry['type'] == 'Polygon':\n",
    "            country_borders = [geometry[\"coordinates\"][0]]\n",
    "\n",
    "        elif geometry['type'] == 'MultiPolygon':\n",
    "            country_borders = []\n",
    "            for polygon in geometry[\"coordinates\"]:\n",
    "                country_borders += polygon\n",
    "        else:\n",
    "            raise ValueError('Unknown type of geojson')\n",
    "\n",
    "        for polygon in country_borders:\n",
    "            lon.append([])\n",
    "            lat.append([])\n",
    "            names.append(name)\n",
    "            cell_activity.append(df[df.filter(like=name).columns].sum().sum())\n",
    "            for coors in polygon:\n",
    "                lon[-1].append(coors[0])\n",
    "                lat[-1].append(coors[1])\n",
    "                \n",
    "    cell_activity = np.log(cell_activity) # Smoothen\n",
    "    cell_activity /= np.asarray(cell_activity).max() # Normalize\n",
    "    cell_activity *= 255 # Scale to pallete\n",
    "    cell_activity = cell_activity.tolist()\n",
    "\n",
    "    source = ColumnDataSource(data=dict(\n",
    "       lon=lon,\n",
    "       lat=lat,\n",
    "       names=names,\n",
    "       cell_activity=cell_activity,\n",
    "       center_lon=[np.mean(x) for x in lon],\n",
    "       center_lat=[np.mean(x) for x in lat],\n",
    "    ))\n",
    "\n",
    "    p = figure(\n",
    "       title=\"Countries by Amount of Cellular Activity with Milan\", tools=TOOLS,\n",
    "       x_axis_location=None, y_axis_location=None,\n",
    "       plot_width=800, plot_height=600\n",
    "    )\n",
    "\n",
    "    p.patches('lon', 'lat', source=source,\n",
    "             fill_color={'field': 'cell_activity', 'transform': color_mapper},\n",
    "             fill_alpha=0.7, line_color=\"white\", line_width=0.5)\n",
    "\n",
    "    hover = p.select_one(HoverTool)\n",
    "    hover.point_policy = \"follow_mouse\"\n",
    "    hover.tooltips = [\n",
    "       (\"Name\", \"@names\"),\n",
    "       (\"Cellular Activity)\", \"@cell_activity\"),\n",
    "       (\"(Lat, Lon)\", \"(@center_lat, @center_lon)\"),\n",
    "    ]\n",
    "    \n",
    "    return p"
   ]
  },
  {
   "cell_type": "markdown",
   "metadata": {},
   "source": [
    "### <span style=\"color:red;\">Cell below takes around a minute to load!</span>"
   ]
  },
  {
   "cell_type": "code",
   "execution_count": null,
   "metadata": {},
   "outputs": [],
   "source": [
    "p_world = plot_world(df, geojsons, color_mapper)\n",
    "show(p_world)"
   ]
  },
  {
   "cell_type": "markdown",
   "metadata": {},
   "source": [
    "# ANOMALY DETECTION"
   ]
  },
  {
   "cell_type": "code",
   "execution_count": null,
   "metadata": {},
   "outputs": [],
   "source": [
    "# Copy `df` to `data` in order to keep the original data untouched\n",
    "data = df.copy()"
   ]
  },
  {
   "cell_type": "code",
   "execution_count": null,
   "metadata": {},
   "outputs": [],
   "source": [
    "# Normalize the data\n",
    "data -= data.mean()\n",
    "data /= data.std()\n",
    "data = data.fillna(0.0)"
   ]
  },
  {
   "cell_type": "code",
   "execution_count": null,
   "metadata": {},
   "outputs": [],
   "source": [
    "# Add Random Anomalies\n",
    "def add_anomalies(data, percentage=0.01):\n",
    "    n_anomalies = int(percentage * len(data)) # 1% of data\n",
    "    data = data.append(pd.DataFrame(np.zeros((n_anomalies, data.shape[1])), columns=data.columns))\n",
    "    for index in range(len(data) - n_anomalies, len(data)):\n",
    "        # Random connections\n",
    "        n_random_indices = np.random.randint(4, 10)\n",
    "        random_indices = np.random.randint(0, data.shape[1],  n_random_indices)\n",
    "        data.iloc[index, random_indices] = np.random.uniform(-1.0, 1.0, size=n_random_indices)\n",
    "    return data, n_anomalies\n",
    "\n",
    "data, n_anomalies = add_anomalies(data)"
   ]
  },
  {
   "cell_type": "code",
   "execution_count": null,
   "metadata": {},
   "outputs": [],
   "source": [
    "# Add CellIDs\n",
    "data['CellID'] = 0\n",
    "data.loc[data.index.values[:-n_anomalies], 'CellID'] = np.array([cell_index for _, cell_index in df.index.values])\n",
    "data.loc[data.index.values[-n_anomalies:], 'CellID'] = np.random.randint(0, n_cells, n_anomalies)"
   ]
  },
  {
   "cell_type": "code",
   "execution_count": null,
   "metadata": {},
   "outputs": [],
   "source": [
    "# Add Labels\n",
    "data['anomaly'] = 0\n",
    "data.loc[data.index.values[-n_anomalies:], 'anomaly'] = 1"
   ]
  },
  {
   "cell_type": "code",
   "execution_count": null,
   "metadata": {},
   "outputs": [],
   "source": [
    "from sklearn.model_selection import train_test_split\n",
    "train_data, test_data = train_test_split(data, test_size=0.2)"
   ]
  },
  {
   "cell_type": "code",
   "execution_count": null,
   "metadata": {},
   "outputs": [],
   "source": [
    "def batches(data, batch_size=1024):\n",
    "    \n",
    "    n_batches = len(data)//batch_size\n",
    "    print('Data consists of {} batches'.format(n_batches))\n",
    "    sys.stdout.flush()\n",
    "    \n",
    "    bar = progressbar.ProgressBar(max_value=n_batches)\n",
    "    for batch_index in range(0, n_batches):\n",
    "        \n",
    "        bar.update(batch_index)\n",
    "        \n",
    "        batch = data.iloc[batch_index*batch_size:(batch_index+1)*batch_size]\n",
    "        \n",
    "        one_hot = np.zeros((batch_size, n_cells))\n",
    "        for i in range(len(one_hot)):\n",
    "            one_hot[i, batch['CellID'].values[i]] = 1\n",
    "        one_hot = pd.DataFrame(one_hot, columns=['CellID_'+str(i) for i in range(n_cells)], index=batch.index)\n",
    "        batch = batch.join(one_hot)\n",
    "        \n",
    "        yield batch"
   ]
  },
  {
   "cell_type": "code",
   "execution_count": null,
   "metadata": {},
   "outputs": [],
   "source": [
    "from sklearn.ensemble import RandomForestClassifier\n",
    "\n",
    "from sklearn.metrics import (\n",
    "    accuracy_score, confusion_matrix\n",
    ")"
   ]
  },
  {
   "cell_type": "markdown",
   "metadata": {},
   "source": [
    "## Train the Classifier"
   ]
  },
  {
   "cell_type": "code",
   "execution_count": null,
   "metadata": {
    "scrolled": false
   },
   "outputs": [],
   "source": [
    "name = 'Random Forest'\n",
    "clf = RandomForestClassifier()\n",
    "\n",
    "print('Training {}'.format(name))\n",
    "for batch in batches(train_data):\n",
    "    clf.fit(batch.drop(['CellID', 'anomaly'], axis=1), batch['anomaly'])\n",
    "\n",
    "print('Evaluating {}'.format(name))\n",
    "y_true = np.array([])\n",
    "y_pred = np.array([])\n",
    "for batch in batches(test_data, batch_size=4096):\n",
    "    y_true = np.append(y_true, batch['anomaly'].values)\n",
    "    y_pred = np.append(y_pred, clf.predict(batch.drop(['CellID', 'anomaly'], axis=1)))\n",
    "\n",
    "acc = accuracy_score(y_true, y_pred)\n",
    "print('Accuracy of {}: {:7.3f}%'.format(name, acc * 100))\n",
    "print('Confusion Matrix:\\n{}'.format(confusion_matrix(y_true, y_pred)))"
   ]
  },
  {
   "cell_type": "markdown",
   "metadata": {},
   "source": [
    "## Display an example of an anomaly"
   ]
  },
  {
   "cell_type": "code",
   "execution_count": null,
   "metadata": {},
   "outputs": [],
   "source": [
    "indices = np.where(y_pred == 1)\n",
    "index = indices[0][0]\n",
    "anomaly_example = test_data.iloc[index]\n",
    "cell_id = int(anomaly_example['CellID'])\n",
    "print(anomaly_example[anomaly_example > 0], end='\\n\\n')"
   ]
  },
  {
   "cell_type": "markdown",
   "metadata": {},
   "source": [
    "## Display normal examples for the same cell id as the anomaly example above"
   ]
  },
  {
   "cell_type": "code",
   "execution_count": null,
   "metadata": {},
   "outputs": [],
   "source": [
    "normal_examples = data.iloc[:-n_anomalies][data.iloc[:-n_anomalies]['CellID'] == cell_id]\n",
    "for i, (index, example) in enumerate(normal_examples.iterrows()):\n",
    "    print(example[example > 0], end='\\n\\n')\n",
    "    \n",
    "    if i == 5:\n",
    "        break"
   ]
  },
  {
   "cell_type": "markdown",
   "metadata": {},
   "source": [
    "<span style=\"color:blue;\">As can be seen, anomaly example looks very different from normal examples. The cell usually a lot of internet traffic to/from Sweden. However, anomaly example does not have any internet traffic with Sweden at all.</span>\n",
    "\n",
    "<span style=\"color:blue;\">The classifier is shown to work for the randomly generated anomalies and it should generalize to the real ones as well.</span>"
   ]
  }
 ],
 "metadata": {
  "kernelspec": {
   "display_name": "Python 3",
   "language": "python",
   "name": "python3"
  },
  "language_info": {
   "codemirror_mode": {
    "name": "ipython",
    "version": 3
   },
   "file_extension": ".py",
   "mimetype": "text/x-python",
   "name": "python",
   "nbconvert_exporter": "python",
   "pygments_lexer": "ipython3",
   "version": "3.6.5"
  }
 },
 "nbformat": 4,
 "nbformat_minor": 2
}
